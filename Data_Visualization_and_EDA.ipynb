{
  "nbformat": 4,
  "nbformat_minor": 0,
  "metadata": {
    "colab": {
      "name": "Data Visualization and EDA.ipynb",
      "provenance": []
    },
    "kernelspec": {
      "name": "python3",
      "display_name": "Python 3"
    }
  },
  "cells": [
    {
      "cell_type": "markdown",
      "metadata": {
        "id": "oI8Hdy8Bmufd"
      },
      "source": [
        "# Exploratory data analysis"
      ]
    },
    {
      "cell_type": "code",
      "metadata": {
        "id": "sVvkp9w_ag52"
      },
      "source": [
        "# For Analysis\n",
        "import numpy as np\n",
        "import pandas as pd\n",
        "\n",
        "# For Visualizations\n",
        "import matplotlib.pyplot as plt\n",
        "import seaborn as sns\n",
        "from plotnine import *"
      ],
      "execution_count": 10,
      "outputs": []
    },
    {
      "cell_type": "code",
      "metadata": {
        "id": "riEtrilMYaIP"
      },
      "source": [
        "#!wget https://www.dropbox.com/s/oj0oi01uw1i7fht/train_data.csv"
      ],
      "execution_count": 39,
      "outputs": []
    },
    {
      "cell_type": "code",
      "metadata": {
        "id": "gRtUAMs2aoRb"
      },
      "source": [
        "data=pd.read_csv('/content/train_data.csv')"
      ],
      "execution_count": 38,
      "outputs": []
    },
    {
      "cell_type": "markdown",
      "metadata": {
        "id": "xBVsLcQmclJL"
      },
      "source": [
        "# Numerical features analysis"
      ]
    },
    {
      "cell_type": "code",
      "metadata": {
        "id": "K2RVNxYHbR8f",
        "outputId": "9a912327-d00b-49c9-fd01-e21ed8070b0f",
        "colab": {
          "base_uri": "https://localhost:8080/",
          "height": 317
        }
      },
      "source": [
        "train_data.describe()"
      ],
      "execution_count": 8,
      "outputs": [
        {
          "output_type": "execute_result",
          "data": {
            "text/html": [
              "<div>\n",
              "<style scoped>\n",
              "    .dataframe tbody tr th:only-of-type {\n",
              "        vertical-align: middle;\n",
              "    }\n",
              "\n",
              "    .dataframe tbody tr th {\n",
              "        vertical-align: top;\n",
              "    }\n",
              "\n",
              "    .dataframe thead th {\n",
              "        text-align: right;\n",
              "    }\n",
              "</style>\n",
              "<table border=\"1\" class=\"dataframe\">\n",
              "  <thead>\n",
              "    <tr style=\"text-align: right;\">\n",
              "      <th></th>\n",
              "      <th>accommodates</th>\n",
              "      <th>bathrooms</th>\n",
              "      <th>cleaning_fee</th>\n",
              "      <th>number_of_reviews</th>\n",
              "      <th>bedrooms</th>\n",
              "      <th>beds</th>\n",
              "      <th>log_price</th>\n",
              "      <th>check_in_24h</th>\n",
              "      <th>air_conditioning</th>\n",
              "      <th>high_end_electronics</th>\n",
              "      <th>bbq</th>\n",
              "      <th>balcony</th>\n",
              "      <th>nature_and_views</th>\n",
              "      <th>bed_linen</th>\n",
              "      <th>breakfast</th>\n",
              "      <th>tv</th>\n",
              "      <th>coffee_machine</th>\n",
              "      <th>cooking_basics</th>\n",
              "      <th>white_goods</th>\n",
              "      <th>elevator</th>\n",
              "      <th>gym</th>\n",
              "      <th>child_friendly</th>\n",
              "      <th>parking</th>\n",
              "      <th>hot_tub_sauna_or_pool</th>\n",
              "      <th>internet</th>\n",
              "      <th>pets_allowed</th>\n",
              "      <th>secure</th>\n",
              "      <th>host_days_active</th>\n",
              "    </tr>\n",
              "  </thead>\n",
              "  <tbody>\n",
              "    <tr>\n",
              "      <th>count</th>\n",
              "      <td>49872.000000</td>\n",
              "      <td>49872.000000</td>\n",
              "      <td>49872.000000</td>\n",
              "      <td>49872.000000</td>\n",
              "      <td>49872.000000</td>\n",
              "      <td>49872.000000</td>\n",
              "      <td>49872.000000</td>\n",
              "      <td>49872.000000</td>\n",
              "      <td>49872.000000</td>\n",
              "      <td>49872.000000</td>\n",
              "      <td>49872.000000</td>\n",
              "      <td>49872.000000</td>\n",
              "      <td>49872.000000</td>\n",
              "      <td>49872.000000</td>\n",
              "      <td>49872.000000</td>\n",
              "      <td>49872.000000</td>\n",
              "      <td>49872.000000</td>\n",
              "      <td>49872.000000</td>\n",
              "      <td>49872.000000</td>\n",
              "      <td>49872.000000</td>\n",
              "      <td>49872.000000</td>\n",
              "      <td>49872.000000</td>\n",
              "      <td>49872.000000</td>\n",
              "      <td>49872.000000</td>\n",
              "      <td>49872.000000</td>\n",
              "      <td>49872.000000</td>\n",
              "      <td>49872.000000</td>\n",
              "      <td>49872.000000</td>\n",
              "    </tr>\n",
              "    <tr>\n",
              "      <th>mean</th>\n",
              "      <td>3.158686</td>\n",
              "      <td>1.234851</td>\n",
              "      <td>0.732455</td>\n",
              "      <td>21.002005</td>\n",
              "      <td>1.266823</td>\n",
              "      <td>1.711702</td>\n",
              "      <td>4.781950</td>\n",
              "      <td>0.255895</td>\n",
              "      <td>0.744726</td>\n",
              "      <td>0.006416</td>\n",
              "      <td>0.008462</td>\n",
              "      <td>0.016643</td>\n",
              "      <td>0.001965</td>\n",
              "      <td>0.056264</td>\n",
              "      <td>0.111987</td>\n",
              "      <td>0.722449</td>\n",
              "      <td>0.047842</td>\n",
              "      <td>0.052875</td>\n",
              "      <td>0.597369</td>\n",
              "      <td>0.233217</td>\n",
              "      <td>0.100798</td>\n",
              "      <td>0.498637</td>\n",
              "      <td>0.320761</td>\n",
              "      <td>0.128128</td>\n",
              "      <td>0.965873</td>\n",
              "      <td>0.235984</td>\n",
              "      <td>0.154335</td>\n",
              "      <td>1722.944919</td>\n",
              "    </tr>\n",
              "    <tr>\n",
              "      <th>std</th>\n",
              "      <td>2.166396</td>\n",
              "      <td>0.581863</td>\n",
              "      <td>0.442683</td>\n",
              "      <td>38.136676</td>\n",
              "      <td>0.853867</td>\n",
              "      <td>1.259886</td>\n",
              "      <td>0.717196</td>\n",
              "      <td>0.436368</td>\n",
              "      <td>0.436019</td>\n",
              "      <td>0.079846</td>\n",
              "      <td>0.091598</td>\n",
              "      <td>0.127929</td>\n",
              "      <td>0.044286</td>\n",
              "      <td>0.230433</td>\n",
              "      <td>0.315353</td>\n",
              "      <td>0.447795</td>\n",
              "      <td>0.213435</td>\n",
              "      <td>0.223787</td>\n",
              "      <td>0.490433</td>\n",
              "      <td>0.422883</td>\n",
              "      <td>0.301064</td>\n",
              "      <td>0.500003</td>\n",
              "      <td>0.466774</td>\n",
              "      <td>0.334236</td>\n",
              "      <td>0.181558</td>\n",
              "      <td>0.424617</td>\n",
              "      <td>0.361273</td>\n",
              "      <td>660.897459</td>\n",
              "    </tr>\n",
              "    <tr>\n",
              "      <th>min</th>\n",
              "      <td>1.000000</td>\n",
              "      <td>0.000000</td>\n",
              "      <td>0.000000</td>\n",
              "      <td>0.000000</td>\n",
              "      <td>0.000000</td>\n",
              "      <td>0.000000</td>\n",
              "      <td>1.609438</td>\n",
              "      <td>0.000000</td>\n",
              "      <td>0.000000</td>\n",
              "      <td>0.000000</td>\n",
              "      <td>0.000000</td>\n",
              "      <td>0.000000</td>\n",
              "      <td>0.000000</td>\n",
              "      <td>0.000000</td>\n",
              "      <td>0.000000</td>\n",
              "      <td>0.000000</td>\n",
              "      <td>0.000000</td>\n",
              "      <td>0.000000</td>\n",
              "      <td>0.000000</td>\n",
              "      <td>0.000000</td>\n",
              "      <td>0.000000</td>\n",
              "      <td>0.000000</td>\n",
              "      <td>0.000000</td>\n",
              "      <td>0.000000</td>\n",
              "      <td>0.000000</td>\n",
              "      <td>0.000000</td>\n",
              "      <td>0.000000</td>\n",
              "      <td>552.000000</td>\n",
              "    </tr>\n",
              "    <tr>\n",
              "      <th>25%</th>\n",
              "      <td>2.000000</td>\n",
              "      <td>1.000000</td>\n",
              "      <td>0.000000</td>\n",
              "      <td>1.000000</td>\n",
              "      <td>1.000000</td>\n",
              "      <td>1.000000</td>\n",
              "      <td>4.317488</td>\n",
              "      <td>0.000000</td>\n",
              "      <td>0.000000</td>\n",
              "      <td>0.000000</td>\n",
              "      <td>0.000000</td>\n",
              "      <td>0.000000</td>\n",
              "      <td>0.000000</td>\n",
              "      <td>0.000000</td>\n",
              "      <td>0.000000</td>\n",
              "      <td>0.000000</td>\n",
              "      <td>0.000000</td>\n",
              "      <td>0.000000</td>\n",
              "      <td>0.000000</td>\n",
              "      <td>0.000000</td>\n",
              "      <td>0.000000</td>\n",
              "      <td>0.000000</td>\n",
              "      <td>0.000000</td>\n",
              "      <td>0.000000</td>\n",
              "      <td>1.000000</td>\n",
              "      <td>0.000000</td>\n",
              "      <td>0.000000</td>\n",
              "      <td>1205.000000</td>\n",
              "    </tr>\n",
              "    <tr>\n",
              "      <th>50%</th>\n",
              "      <td>2.000000</td>\n",
              "      <td>1.000000</td>\n",
              "      <td>1.000000</td>\n",
              "      <td>6.000000</td>\n",
              "      <td>1.000000</td>\n",
              "      <td>1.000000</td>\n",
              "      <td>4.709530</td>\n",
              "      <td>0.000000</td>\n",
              "      <td>1.000000</td>\n",
              "      <td>0.000000</td>\n",
              "      <td>0.000000</td>\n",
              "      <td>0.000000</td>\n",
              "      <td>0.000000</td>\n",
              "      <td>0.000000</td>\n",
              "      <td>0.000000</td>\n",
              "      <td>1.000000</td>\n",
              "      <td>0.000000</td>\n",
              "      <td>0.000000</td>\n",
              "      <td>1.000000</td>\n",
              "      <td>0.000000</td>\n",
              "      <td>0.000000</td>\n",
              "      <td>0.000000</td>\n",
              "      <td>0.000000</td>\n",
              "      <td>0.000000</td>\n",
              "      <td>1.000000</td>\n",
              "      <td>0.000000</td>\n",
              "      <td>0.000000</td>\n",
              "      <td>1654.000000</td>\n",
              "    </tr>\n",
              "    <tr>\n",
              "      <th>75%</th>\n",
              "      <td>4.000000</td>\n",
              "      <td>1.000000</td>\n",
              "      <td>1.000000</td>\n",
              "      <td>24.000000</td>\n",
              "      <td>1.000000</td>\n",
              "      <td>2.000000</td>\n",
              "      <td>5.220356</td>\n",
              "      <td>1.000000</td>\n",
              "      <td>1.000000</td>\n",
              "      <td>0.000000</td>\n",
              "      <td>0.000000</td>\n",
              "      <td>0.000000</td>\n",
              "      <td>0.000000</td>\n",
              "      <td>0.000000</td>\n",
              "      <td>0.000000</td>\n",
              "      <td>1.000000</td>\n",
              "      <td>0.000000</td>\n",
              "      <td>0.000000</td>\n",
              "      <td>1.000000</td>\n",
              "      <td>0.000000</td>\n",
              "      <td>0.000000</td>\n",
              "      <td>1.000000</td>\n",
              "      <td>1.000000</td>\n",
              "      <td>0.000000</td>\n",
              "      <td>1.000000</td>\n",
              "      <td>0.000000</td>\n",
              "      <td>0.000000</td>\n",
              "      <td>2180.000000</td>\n",
              "    </tr>\n",
              "    <tr>\n",
              "      <th>max</th>\n",
              "      <td>16.000000</td>\n",
              "      <td>8.000000</td>\n",
              "      <td>1.000000</td>\n",
              "      <td>605.000000</td>\n",
              "      <td>10.000000</td>\n",
              "      <td>16.000000</td>\n",
              "      <td>7.600402</td>\n",
              "      <td>1.000000</td>\n",
              "      <td>1.000000</td>\n",
              "      <td>1.000000</td>\n",
              "      <td>1.000000</td>\n",
              "      <td>1.000000</td>\n",
              "      <td>1.000000</td>\n",
              "      <td>1.000000</td>\n",
              "      <td>1.000000</td>\n",
              "      <td>1.000000</td>\n",
              "      <td>1.000000</td>\n",
              "      <td>1.000000</td>\n",
              "      <td>1.000000</td>\n",
              "      <td>1.000000</td>\n",
              "      <td>1.000000</td>\n",
              "      <td>1.000000</td>\n",
              "      <td>1.000000</td>\n",
              "      <td>1.000000</td>\n",
              "      <td>1.000000</td>\n",
              "      <td>1.000000</td>\n",
              "      <td>1.000000</td>\n",
              "      <td>4053.000000</td>\n",
              "    </tr>\n",
              "  </tbody>\n",
              "</table>\n",
              "</div>"
            ],
            "text/plain": [
              "       accommodates     bathrooms  ...        secure  host_days_active\n",
              "count  49872.000000  49872.000000  ...  49872.000000      49872.000000\n",
              "mean       3.158686      1.234851  ...      0.154335       1722.944919\n",
              "std        2.166396      0.581863  ...      0.361273        660.897459\n",
              "min        1.000000      0.000000  ...      0.000000        552.000000\n",
              "25%        2.000000      1.000000  ...      0.000000       1205.000000\n",
              "50%        2.000000      1.000000  ...      0.000000       1654.000000\n",
              "75%        4.000000      1.000000  ...      0.000000       2180.000000\n",
              "max       16.000000      8.000000  ...      1.000000       4053.000000\n",
              "\n",
              "[8 rows x 28 columns]"
            ]
          },
          "metadata": {
            "tags": []
          },
          "execution_count": 8
        }
      ]
    },
    {
      "cell_type": "markdown",
      "metadata": {
        "id": "qVWt7KCBc1Xq"
      },
      "source": [
        "* Number of people accommodated, bathrooms, bedrooms and beds"
      ]
    },
    {
      "cell_type": "code",
      "metadata": {
        "id": "Z8NyQlxldrwD",
        "outputId": "072b7c61-72b8-4b9f-8c83-a337593cefbc",
        "colab": {
          "base_uri": "https://localhost:8080/",
          "height": 354
        }
      },
      "source": [
        "plt.figure(figsize=(10,5))\n",
        "train_data.groupby('accommodates').log_price.median().plot(kind='bar')\n",
        "plt.title('Median price of Airbnbs accommodating different number of guests', fontsize=14)\n",
        "plt.xlabel('Number of guests accommodated', fontsize=13)\n",
        "plt.ylabel('Median price (£)', fontsize=13)\n",
        "plt.xticks(rotation=0)\n",
        "plt.xlim(left=0.5)\n",
        "plt.show()"
      ],
      "execution_count": 17,
      "outputs": [
        {
          "output_type": "display_data",
          "data": {
            "image/png": "[encoded data removed]",
            "text/plain": [
              "<Figure size 720x360 with 1 Axes>"
            ]
          },
          "metadata": {
            "tags": [],
            "needs_background": "light"
          }
        }
      ]
    },
    {
      "cell_type": "markdown",
      "metadata": {
        "id": "PbSP95DyldeF"
      },
      "source": [
        "properties that accommodate more people achieve noticeably higher nightly rates, with diminishing returns coming after about 6 people."
      ]
    },
    {
      "cell_type": "code",
      "metadata": {
        "id": "hxdl6-T9f7K0",
        "outputId": "54e7c1a6-e3bd-49e1-d9ad-76130f7a64ef",
        "colab": {
          "base_uri": "https://localhost:8080/",
          "height": 390
        }
      },
      "source": [
        "train_data[['accommodates', 'bathrooms', 'bedrooms', 'beds']].hist(figsize=(8,6));"
      ],
      "execution_count": 18,
      "outputs": [
        {
          "output_type": "display_data",
          "data": {
            "image/png": "[encoded data removed]",
            "text/plain": [
              "<Figure size 576x432 with 4 Axes>"
            ]
          },
          "metadata": {
            "tags": [],
            "needs_background": "light"
          }
        }
      ]
    },
    {
      "cell_type": "markdown",
      "metadata": {
        "id": "LDrQ3R2JgINZ"
      },
      "source": [
        "# Categorical features\n",
        "\n",
        "Categorical features will be explored and plotted, to gain insights and to determine whether or not they should be included in the final model."
      ]
    },
    {
      "cell_type": "markdown",
      "metadata": {
        "id": "1r_yrjOzgWF8"
      },
      "source": [
        "Property and room types"
      ]
    },
    {
      "cell_type": "code",
      "metadata": {
        "id": "Th7seq0jf7Dz"
      },
      "source": [
        "# finding most common property and room types\n",
        "def category_count_plot(col, figsize=(8,4)):\n",
        "    \"\"\"\n",
        "    Plots a simple bar chart of the total count for each category in the column specified.\n",
        "    A figure size can optionally be specified.\n",
        "    \"\"\"\n",
        "    plt.figure(figsize=figsize)\n",
        "    train_data[col].value_counts().plot(kind='bar')\n",
        "    plt.title(col)\n",
        "    plt.xticks(rotation=0)\n",
        "    plt.show()"
      ],
      "execution_count": 22,
      "outputs": []
    },
    {
      "cell_type": "code",
      "metadata": {
        "id": "uv8f-G4ogkXB",
        "outputId": "4169ae62-f45a-4a91-8601-df943f743b25",
        "colab": {
          "base_uri": "https://localhost:8080/",
          "height": 573
        }
      },
      "source": [
        "for col in ['property_type', 'room_type']:\n",
        "    category_count_plot(col, figsize=(4,3))\n",
        "    print(train_data[col].value_counts(normalize=True))"
      ],
      "execution_count": 23,
      "outputs": [
        {
          "output_type": "display_data",
          "data": {
            "image/png": "[encoded data removed]",
            "text/plain": [
              "<Figure size 288x216 with 1 Axes>"
            ]
          },
          "metadata": {
            "tags": [],
            "needs_background": "light"
          }
        },
        {
          "output_type": "stream",
          "text": [
            "Apartment    0.678718\n",
            "House        0.253870\n",
            "Other        0.067413\n",
            "Name: property_type, dtype: float64\n"
          ],
          "name": "stdout"
        },
        {
          "output_type": "display_data",
          "data": {
            "image/png": "[encoded data removed]",
            "text/plain": [
              "<Figure size 288x216 with 1 Axes>"
            ]
          },
          "metadata": {
            "tags": [],
            "needs_background": "light"
          }
        },
        {
          "output_type": "stream",
          "text": [
            "Entire home/apt    0.558269\n",
            "Private room       0.412937\n",
            "Shared room        0.028794\n",
            "Name: room_type, dtype: float64\n"
          ],
          "name": "stdout"
        }
      ]
    },
    {
      "cell_type": "markdown",
      "metadata": {
        "id": "wY6MjB3ol9Us"
      },
      "source": [
        "about 70% of properties are apartments. The remainder are houses or more uncommon property types."
      ]
    },
    {
      "cell_type": "markdown",
      "metadata": {
        "id": "RBfKhjo4g50x"
      },
      "source": [
        "# Reviews\n",
        "\n",
        "distribution of reviews"
      ]
    },
    {
      "cell_type": "code",
      "metadata": {
        "id": "87khdv3Tgkrx",
        "outputId": "fea1c9e1-a51d-4ec3-cd68-328b3efd07f8",
        "colab": {
          "base_uri": "https://localhost:8080/",
          "height": 337
        }
      },
      "source": [
        "fig, ax = plt.subplots(1, 1, figsize=(8,5))\n",
        "ax.set_title('Overall listing rating', fontsize=14)\n",
        "train_data['review_scores_rating'].value_counts().sort_index(ascending=False).plot(kind='bar', color=['silver', 'darkgreen', 'yellowgreen', '#d1f28a' ], ax=ax)\n",
        "ax.set_xticklabels(labels=['no reviews', '95-100%', '80-94%', '0-79%'], rotation=0)\n",
        "ax.set_xlabel('')\n",
        "ax.set_ylabel('Number of properties', fontsize=13)\n",
        "plt.show()"
      ],
      "execution_count": 24,
      "outputs": [
        {
          "output_type": "display_data",
          "data": {
            "image/png": "[encoded data removed]",
            "text/plain": [
              "<Figure size 576x360 with 1 Axes>"
            ]
          },
          "metadata": {
            "tags": [],
            "needs_background": "light"
          }
        }
      ]
    },
    {
      "cell_type": "code",
      "metadata": {
        "id": "q10YAHzXgkcn",
        "outputId": "ff0ee9ef-78b6-4b37-ca31-648b9541b4d9",
        "colab": {
          "base_uri": "https://localhost:8080/",
          "height": 227
        }
      },
      "source": [
        "for col in list(train_data.columns[train_data.columns.str.startswith(\"review_scores\") == True]):\n",
        "    category_count_plot(col, figsize=(5,3))"
      ],
      "execution_count": 25,
      "outputs": [
        {
          "output_type": "display_data",
          "data": {
            "image/png": "[encoded data removed]",
            "text/plain": [
              "<Figure size 360x216 with 1 Axes>"
            ]
          },
          "metadata": {
            "tags": [],
            "needs_background": "light"
          }
        }
      ]
    },
    {
      "cell_type": "markdown",
      "metadata": {
        "id": "5pEFtthBmZwd"
      },
      "source": [
        "for every review category, the majority of listings that have had a review have received a 10/10 rating for that category (or 95-100/100 overall) - clearly people love their Airbnbs"
      ]
    },
    {
      "cell_type": "markdown",
      "metadata": {
        "id": "b2Oblmm9hlUI"
      },
      "source": [
        "#First and last reviews"
      ]
    },
    {
      "cell_type": "code",
      "metadata": {
        "id": "vquDnZF9hd8N",
        "outputId": "d7bfe735-2586-4eba-9b02-377a318740b3",
        "colab": {
          "base_uri": "https://localhost:8080/",
          "height": 545
        }
      },
      "source": [
        "for col in ['time_since_first_review', 'time_since_last_review']:\n",
        "    category_count_plot(col)"
      ],
      "execution_count": 26,
      "outputs": [
        {
          "output_type": "display_data",
          "data": {
            "image/png": "[encoded data removed]",
            "text/plain": [
              "<Figure size 576x288 with 1 Axes>"
            ]
          },
          "metadata": {
            "tags": [],
            "needs_background": "light"
          }
        },
        {
          "output_type": "display_data",
          "data": {
            "image/png": "[encoded data removed]",
            "text/plain": [
              "<Figure size 576x288 with 1 Axes>"
            ]
          },
          "metadata": {
            "tags": [],
            "needs_background": "light"
          }
        }
      ]
    },
    {
      "cell_type": "markdown",
      "metadata": {
        "id": "saA0l07th-15"
      },
      "source": [
        "# Instant booking\n",
        "\n",
        "how many properties are instant bookable (i.e. able to be booked without messaging the host first), and is it worth it?"
      ]
    },
    {
      "cell_type": "code",
      "metadata": {
        "id": "HhlXiQVXdvJe"
      },
      "source": [
        "def binary_count_and_price_plot(col, figsize=(8,3)):\n",
        "    \"\"\"\n",
        "    Plots a simple bar chart of the counts of true and false categories in the column specified,\n",
        "    next to a bar chart of the median price for each category.\n",
        "    A figure size can optionally be specified.\n",
        "    \"\"\"\n",
        "    fig, (ax1, ax2) = plt.subplots(1, 2, figsize=figsize)\n",
        "    fig.suptitle(col, fontsize=16, y=1)\n",
        "    plt.subplots_adjust(top=0.80) # So that the suptitle does not overlap with the ax plot titles\n",
        "    \n",
        "    train_data.groupby(col).size().plot(kind='bar', ax=ax1, color=['firebrick', 'seagreen'])\n",
        "    ax1.set_xticklabels(labels=['false', 'true'], rotation=0)\n",
        "    ax1.set_title('Category count')\n",
        "    ax1.set_xlabel('')\n",
        "    \n",
        "    train_data.groupby(col).log_price.median().plot(kind='bar', ax=ax2, color=['firebrick', 'seagreen'])\n",
        "    ax2.set_xticklabels(labels=['false', 'true'], rotation=0)\n",
        "    ax2.set_title('Median price (£)')\n",
        "    ax2.set_xlabel('')\n",
        "    \n",
        "    plt.show()"
      ],
      "execution_count": 30,
      "outputs": []
    },
    {
      "cell_type": "code",
      "metadata": {
        "id": "bzWChPYWi1Gi",
        "outputId": "adf95f1d-103d-438d-a1fe-e071201d62fd",
        "colab": {
          "base_uri": "https://localhost:8080/",
          "height": 288
        }
      },
      "source": [
        "binary_count_and_price_plot('instant_bookable')\n",
        "print(train_data.instant_bookable.value_counts(normalize=True))"
      ],
      "execution_count": 32,
      "outputs": [
        {
          "output_type": "display_data",
          "data": {
            "image/png": "[encoded data removed]",
            "text/plain": [
              "<Figure size 576x216 with 2 Axes>"
            ]
          },
          "metadata": {
            "tags": [],
            "needs_background": "light"
          }
        },
        {
          "output_type": "stream",
          "text": [
            "f    0.737267\n",
            "t    0.262733\n",
            "Name: instant_bookable, dtype: float64\n"
          ],
          "name": "stdout"
        }
      ]
    },
    {
      "cell_type": "markdown",
      "metadata": {
        "id": "7VAMaSnUj4qg"
      },
      "source": [
        " only about 20% of properties are instant bookable. However, the added convenience does not seem to have any effect on the median price per night."
      ]
    },
    {
      "cell_type": "markdown",
      "metadata": {
        "id": "u7T0sTttkYYg"
      },
      "source": [
        "# Now we got an insight from above visualization. Based on this we will drop columns which are not important for finding the target column i.e log price\n",
        "\n",
        "# Next we will go for model building process"
      ]
    }
  ]
}