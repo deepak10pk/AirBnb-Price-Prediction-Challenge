{
  "nbformat": 4,
  "nbformat_minor": 0,
  "metadata": {
    "colab": {
      "name": "Data_Cleaning",
      "provenance": [],
      "collapsed_sections": []
    },
    "kernelspec": {
      "name": "python3",
      "display_name": "Python 3"
    }
  },
  "cells": [
    {
      "cell_type": "markdown",
      "metadata": {
        "id": "JTPQCupDN8o_"
      },
      "source": [
        "#Importing all required libraries"
      ]
    },
    {
      "cell_type": "code",
      "metadata": {
        "id": "09h8lGLI8pSh"
      },
      "source": [
        "# For Analysis\n",
        "import numpy as np\n",
        "import pandas as pd\n",
        "\n",
        "# For Visualizations\n",
        "import matplotlib.pyplot as plt\n",
        "import seaborn as sns\n",
        "\n",
        "#For Modeling\n",
        "from sklearn import metrics\n",
        "from sklearn.model_selection import RandomizedSearchCV,train_test_split,GridSearchCV\n",
        "from sklearn.linear_model import LogisticRegression, LinearRegression\n",
        "from sklearn.ensemble import RandomForestRegressor\n",
        "import xgboost as xgb\n",
        "from xgboost import plot_importance\n",
        "from sklearn.metrics import explained_variance_score, mean_squared_error, r2_score\n",
        "\n",
        "#Hide warnings\n",
        "import warnings\n",
        "warnings.filterwarnings('ignore')\n",
        "%matplotlib inline\n",
        "from datetime import datetime\n",
        "\n",
        "\n",
        "# for feature engineering\n",
        "from sklearn import linear_model\n",
        "from sklearn import preprocessing\n",
        "import matplotlib.pyplot as plt\n",
        "#from haversine import haversine \n",
        "from progressbar import ProgressBar\n",
        "import yaml\n",
        "\n",
        "## for text field processing\n",
        "import nltk\n",
        "from nltk.sentiment.vader import SentimentIntensityAnalyzer\n",
        "from sklearn import datasets, feature_extraction, decomposition\n",
        "from nltk.stem.porter import PorterStemmer\n",
        "\n",
        "import gensim\n",
        "from gensim import corpora\n",
        "import re\n",
        "import nltk\n",
        "from nltk.corpus import stopwords\n",
        "#from stop_words import get_stop_words\n",
        "import operator\n",
        "\n"
      ],
      "execution_count": 1,
      "outputs": []
    },
    {
      "cell_type": "markdown",
      "metadata": {
        "id": "gd6C0KTMQ1-p"
      },
      "source": [
        "# Importing and looking at the Data"
      ]
    },
    {
      "cell_type": "code",
      "metadata": {
        "id": "YIQyF0TlQchZ"
      },
      "source": [
        "# importing data \n",
        "#!wget https://www.dropbox.com/s/y5axc55jyg4k64a/Featured_data.zip"
      ],
      "execution_count": 1,
      "outputs": []
    },
    {
      "cell_type": "code",
      "metadata": {
        "id": "BksdlV3aREhy"
      },
      "source": [
        "# Unzip the data\n",
        "#!unzip /content/Featured_data.zip"
      ],
      "execution_count": 2,
      "outputs": []
    },
    {
      "cell_type": "code",
      "metadata": {
        "id": "5yLIAc4BRRul"
      },
      "source": [
        "# importing train data\n",
        "train_LDA=pd.read_csv('/content/Featured_data/train_LDA.csv')"
      ],
      "execution_count": 7,
      "outputs": []
    },
    {
      "cell_type": "code",
      "metadata": {
        "id": "jNiSsjHHSRpq"
      },
      "source": [
        "# importing test data\n",
        "test_LDA=pd.read_csv('/content/Featured_data/train_LDA.csv')"
      ],
      "execution_count": 8,
      "outputs": []
    },
    {
      "cell_type": "code",
      "metadata": {
        "id": "8Rx60uXDUStA",
        "colab": {
          "base_uri": "https://localhost:8080/"
        },
        "outputId": "2f8a5805-a416-49ed-b49c-6b9ea6972be0"
      },
      "source": [
        "train_LDA.shape , test_LDA.shape"
      ],
      "execution_count": 9,
      "outputs": [
        {
          "output_type": "execute_result",
          "data": {
            "text/plain": [
              "((49999, 36), (49999, 36))"
            ]
          },
          "metadata": {
            "tags": []
          },
          "execution_count": 9
        }
      ]
    },
    {
      "cell_type": "markdown",
      "metadata": {
        "id": "QAarOimRVi_r"
      },
      "source": [
        "# Data Cleaning and Preprocessing\n",
        "\n",
        "  * Combining both train and test data for data preparation"
      ]
    },
    {
      "cell_type": "code",
      "metadata": {
        "id": "-WzUg0ZpUdXe"
      },
      "source": [
        "\n",
        "test_LDA['log_price']=np.nan\n",
        "train_LDA['data']='train'\n",
        "test_LDA['data']='test'\n",
        "test_LDA=test_LDA[train_LDA.columns]\n",
        "combine_data=pd.concat([train_LDA,test_LDA],axis=0)"
      ],
      "execution_count": 10,
      "outputs": []
    },
    {
      "cell_type": "code",
      "metadata": {
        "id": "prLYOenXWxZR",
        "colab": {
          "base_uri": "https://localhost:8080/",
          "height": 267
        },
        "outputId": "45f10822-bd53-4b34-bf36-ee78ed19e35b"
      },
      "source": [
        "combine_data.head(2)"
      ],
      "execution_count": 11,
      "outputs": [
        {
          "output_type": "execute_result",
          "data": {
            "text/html": [
              "<div>\n",
              "<style scoped>\n",
              "    .dataframe tbody tr th:only-of-type {\n",
              "        vertical-align: middle;\n",
              "    }\n",
              "\n",
              "    .dataframe tbody tr th {\n",
              "        vertical-align: top;\n",
              "    }\n",
              "\n",
              "    .dataframe thead th {\n",
              "        text-align: right;\n",
              "    }\n",
              "</style>\n",
              "<table border=\"1\" class=\"dataframe\">\n",
              "  <thead>\n",
              "    <tr style=\"text-align: right;\">\n",
              "      <th></th>\n",
              "      <th>id</th>\n",
              "      <th>property_type</th>\n",
              "      <th>room_type</th>\n",
              "      <th>amenities</th>\n",
              "      <th>accommodates</th>\n",
              "      <th>bathrooms</th>\n",
              "      <th>bed_type</th>\n",
              "      <th>cancellation_policy</th>\n",
              "      <th>cleaning_fee</th>\n",
              "      <th>city</th>\n",
              "      <th>description</th>\n",
              "      <th>first_review</th>\n",
              "      <th>host_has_profile_pic</th>\n",
              "      <th>host_identity_verified</th>\n",
              "      <th>host_response_rate</th>\n",
              "      <th>host_since</th>\n",
              "      <th>instant_bookable</th>\n",
              "      <th>last_review</th>\n",
              "      <th>latitude</th>\n",
              "      <th>longitude</th>\n",
              "      <th>name</th>\n",
              "      <th>neighbourhood</th>\n",
              "      <th>number_of_reviews</th>\n",
              "      <th>review_scores_rating</th>\n",
              "      <th>thumbnail_url</th>\n",
              "      <th>zipcode</th>\n",
              "      <th>bedrooms</th>\n",
              "      <th>beds</th>\n",
              "      <th>log_price</th>\n",
              "      <th>Description_Length</th>\n",
              "      <th>Sentiment_intensity</th>\n",
              "      <th>topic_general</th>\n",
              "      <th>Topic_utilities</th>\n",
              "      <th>Topic_Transport</th>\n",
              "      <th>Topic_listing_desc</th>\n",
              "      <th>Topic_attractions</th>\n",
              "      <th>data</th>\n",
              "    </tr>\n",
              "  </thead>\n",
              "  <tbody>\n",
              "    <tr>\n",
              "      <th>0</th>\n",
              "      <td>6901257</td>\n",
              "      <td>Apartment</td>\n",
              "      <td>Entire home/apt</td>\n",
              "      <td>{\"Wireless Internet\",\"Air conditioning\",Kitche...</td>\n",
              "      <td>3</td>\n",
              "      <td>1.0</td>\n",
              "      <td>Real Bed</td>\n",
              "      <td>strict</td>\n",
              "      <td>True</td>\n",
              "      <td>NYC</td>\n",
              "      <td>Beautiful, sunlit brownstone 1-bedroom in the ...</td>\n",
              "      <td>6/18/2016</td>\n",
              "      <td>t</td>\n",
              "      <td>t</td>\n",
              "      <td>NaN</td>\n",
              "      <td>3/26/2012</td>\n",
              "      <td>f</td>\n",
              "      <td>7/18/2016</td>\n",
              "      <td>40.696524</td>\n",
              "      <td>-73.991617</td>\n",
              "      <td>Beautiful brownstone 1-bedroom</td>\n",
              "      <td>Brooklyn Heights</td>\n",
              "      <td>2</td>\n",
              "      <td>100.0</td>\n",
              "      <td>https://a0.muscache.com/im/pictures/6d7cbbf7-c...</td>\n",
              "      <td>11201</td>\n",
              "      <td>1.0</td>\n",
              "      <td>1.0</td>\n",
              "      <td>5.010635</td>\n",
              "      <td>31.0</td>\n",
              "      <td>0.8658</td>\n",
              "      <td>0.017906</td>\n",
              "      <td>0.016000</td>\n",
              "      <td>0.021348</td>\n",
              "      <td>0.010992</td>\n",
              "      <td>0.933753</td>\n",
              "      <td>train</td>\n",
              "    </tr>\n",
              "    <tr>\n",
              "      <th>1</th>\n",
              "      <td>6304928</td>\n",
              "      <td>Apartment</td>\n",
              "      <td>Entire home/apt</td>\n",
              "      <td>{\"Wireless Internet\",\"Air conditioning\",Kitche...</td>\n",
              "      <td>7</td>\n",
              "      <td>1.0</td>\n",
              "      <td>Real Bed</td>\n",
              "      <td>strict</td>\n",
              "      <td>True</td>\n",
              "      <td>NYC</td>\n",
              "      <td>Enjoy travelling during your stay in Manhattan...</td>\n",
              "      <td>8/5/2017</td>\n",
              "      <td>t</td>\n",
              "      <td>f</td>\n",
              "      <td>100%</td>\n",
              "      <td>6/19/2017</td>\n",
              "      <td>t</td>\n",
              "      <td>9/23/2017</td>\n",
              "      <td>40.766115</td>\n",
              "      <td>-73.989040</td>\n",
              "      <td>Superb 3BR Apt Located Near Times Square</td>\n",
              "      <td>Hell's Kitchen</td>\n",
              "      <td>6</td>\n",
              "      <td>93.0</td>\n",
              "      <td>https://a0.muscache.com/im/pictures/348a55fe-4...</td>\n",
              "      <td>10019</td>\n",
              "      <td>3.0</td>\n",
              "      <td>3.0</td>\n",
              "      <td>5.129899</td>\n",
              "      <td>168.0</td>\n",
              "      <td>0.9755</td>\n",
              "      <td>0.144574</td>\n",
              "      <td>0.534894</td>\n",
              "      <td>0.315791</td>\n",
              "      <td>0.000000</td>\n",
              "      <td>0.000000</td>\n",
              "      <td>train</td>\n",
              "    </tr>\n",
              "  </tbody>\n",
              "</table>\n",
              "</div>"
            ],
            "text/plain": [
              "        id property_type  ... Topic_attractions   data\n",
              "0  6901257     Apartment  ...          0.933753  train\n",
              "1  6304928     Apartment  ...          0.000000  train\n",
              "\n",
              "[2 rows x 37 columns]"
            ]
          },
          "metadata": {
            "tags": []
          },
          "execution_count": 11
        }
      ]
    },
    {
      "cell_type": "code",
      "metadata": {
        "id": "gimQxcj7Wze7",
        "colab": {
          "base_uri": "https://localhost:8080/"
        },
        "outputId": "86d08860-2445-4f5b-c853-ac56a9454e88"
      },
      "source": [
        "# checking if null value exits\n",
        "combine_data.isnull().sum()"
      ],
      "execution_count": 12,
      "outputs": [
        {
          "output_type": "execute_result",
          "data": {
            "text/plain": [
              "id                            0\n",
              "property_type                 0\n",
              "room_type                     0\n",
              "amenities                     0\n",
              "accommodates                  0\n",
              "bathrooms                   292\n",
              "bed_type                      0\n",
              "cancellation_policy           0\n",
              "cleaning_fee                  0\n",
              "city                          0\n",
              "description                   0\n",
              "first_review              21422\n",
              "host_has_profile_pic        254\n",
              "host_identity_verified      254\n",
              "host_response_rate        24676\n",
              "host_since                  254\n",
              "instant_bookable              0\n",
              "last_review               21366\n",
              "latitude                      0\n",
              "longitude                     0\n",
              "name                          0\n",
              "neighbourhood              9234\n",
              "number_of_reviews             0\n",
              "review_scores_rating      22602\n",
              "thumbnail_url             11190\n",
              "zipcode                    1280\n",
              "bedrooms                    124\n",
              "beds                        182\n",
              "log_price                 49999\n",
              "Description_Length            0\n",
              "Sentiment_intensity           0\n",
              "topic_general                 0\n",
              "Topic_utilities               0\n",
              "Topic_Transport               0\n",
              "Topic_listing_desc            0\n",
              "Topic_attractions             0\n",
              "data                          0\n",
              "dtype: int64"
            ]
          },
          "metadata": {
            "tags": []
          },
          "execution_count": 12
        }
      ]
    },
    {
      "cell_type": "markdown",
      "metadata": {
        "id": "k0SP2jAb_cYk"
      },
      "source": [
        "#Note\n",
        "The columns which are not useful in predicting the target column i.e Price are dropped."
      ]
    },
    {
      "cell_type": "code",
      "metadata": {
        "id": "3ffA9zFaCR30"
      },
      "source": [
        "cols_to_drop=['description','name','neighbourhood','thumbnail_url','zipcode','city','longitude','latitude','host_has_profile_pic']\n",
        "combine_data.drop(cols_to_drop,axis=1,inplace=True)"
      ],
      "execution_count": 13,
      "outputs": []
    },
    {
      "cell_type": "markdown",
      "metadata": {
        "id": "1MyQb5FsX-aW"
      },
      "source": [
        "# Cleaning individual columns"
      ]
    },
    {
      "cell_type": "code",
      "metadata": {
        "id": "n-m1Vuj7S4W_",
        "colab": {
          "base_uri": "https://localhost:8080/"
        },
        "outputId": "f703d484-8b9d-4286-ee65-22d8c3d7edc0"
      },
      "source": [
        "#cleaning fee\n",
        "combine_data['cleaning_fee'].value_counts()"
      ],
      "execution_count": 14,
      "outputs": [
        {
          "output_type": "execute_result",
          "data": {
            "text/plain": [
              "True     73254\n",
              "False    26744\n",
              "Name: cleaning_fee, dtype: int64"
            ]
          },
          "metadata": {
            "tags": []
          },
          "execution_count": 14
        }
      ]
    },
    {
      "cell_type": "code",
      "metadata": {
        "id": "PooLoWw8TEh-",
        "colab": {
          "base_uri": "https://localhost:8080/"
        },
        "outputId": "9f891320-563e-4a89-d87d-8e35c7659fbb"
      },
      "source": [
        "combine_data.cleaning_fee = combine_data.cleaning_fee.astype('int64')\n",
        "combine_data['cleaning_fee'].value_counts()"
      ],
      "execution_count": 15,
      "outputs": [
        {
          "output_type": "execute_result",
          "data": {
            "text/plain": [
              "1    73254\n",
              "0    26744\n",
              "Name: cleaning_fee, dtype: int64"
            ]
          },
          "metadata": {
            "tags": []
          },
          "execution_count": 15
        }
      ]
    },
    {
      "cell_type": "code",
      "metadata": {
        "id": "JocfODLCW57C",
        "colab": {
          "base_uri": "https://localhost:8080/"
        },
        "outputId": "313b3def-8278-4e88-fecd-1db2e3de4e4c"
      },
      "source": [
        "# property_type\n",
        "combine_data['property_type'].value_counts()"
      ],
      "execution_count": 16,
      "outputs": [
        {
          "output_type": "execute_result",
          "data": {
            "text/plain": [
              "Apartment             66226\n",
              "House                 22276\n",
              "Condominium            3518\n",
              "Townhouse              2292\n",
              "Loft                   1668\n",
              "Other                   784\n",
              "Guesthouse              648\n",
              "Bed & Breakfast         640\n",
              "Bungalow                528\n",
              "Villa                   240\n",
              "Dorm                    198\n",
              "Guest suite             166\n",
              "Camper/RV               126\n",
              "In-law                   98\n",
              "Cabin                    98\n",
              "Hostel                   96\n",
              "Timeshare                92\n",
              "Boutique hotel           88\n",
              "Boat                     72\n",
              "Serviced apartment       32\n",
              "Tent                     24\n",
              "Castle                   16\n",
              "Yurt                     14\n",
              "Vacation home            14\n",
              "Treehouse                12\n",
              "Hut                      10\n",
              "Chalet                    6\n",
              "Earth House               4\n",
              "Cave                      2\n",
              "Train                     2\n",
              "Parking Space             2\n",
              "Lighthouse                2\n",
              "Tipi                      2\n",
              "Casa particular           2\n",
              "Name: property_type, dtype: int64"
            ]
          },
          "metadata": {
            "tags": []
          },
          "execution_count": 16
        }
      ]
    },
    {
      "cell_type": "markdown",
      "metadata": {
        "id": "PWINfU_pZoP0"
      },
      "source": [
        "Cleaning of property types is required as there are a large number of categories with only a few listings. The categories 'apartment', 'house' and 'other' will be used, as most properties can be classified as either apartments or houses."
      ]
    },
    {
      "cell_type": "code",
      "metadata": {
        "id": "5wnNKAceZh92"
      },
      "source": [
        "# Replacing categories that are types of houses or apartments\n",
        "combine_data.property_type.replace({\n",
        "    'Townhouse': 'House',\n",
        "    'Serviced apartment': 'Apartment',\n",
        "    'Loft': 'Apartment',\n",
        "    'Bungalow': 'House',\n",
        "    'Cottage': 'House',\n",
        "    'Villa': 'House',\n",
        "    'Tiny house': 'House',\n",
        "    'Earth house': 'House',\n",
        "    'Chalet': 'House'  \n",
        "    }, inplace=True)\n",
        "\n",
        "# Replacing other categories with 'other'\n",
        "combine_data.loc[~combine_data.property_type.isin(['House', 'Apartment']), 'property_type'] = 'Other'"
      ],
      "execution_count": 17,
      "outputs": []
    },
    {
      "cell_type": "code",
      "metadata": {
        "id": "2FH6dLY-dKGw",
        "colab": {
          "base_uri": "https://localhost:8080/"
        },
        "outputId": "fd64f6d4-ce25-4195-a8fb-04c77174edab"
      },
      "source": [
        "combine_data['property_type'].value_counts()"
      ],
      "execution_count": 18,
      "outputs": [
        {
          "output_type": "execute_result",
          "data": {
            "text/plain": [
              "Apartment    67926\n",
              "House        25342\n",
              "Other         6730\n",
              "Name: property_type, dtype: int64"
            ]
          },
          "metadata": {
            "tags": []
          },
          "execution_count": 18
        }
      ]
    },
    {
      "cell_type": "markdown",
      "metadata": {
        "id": "C5PML0jngxHU"
      },
      "source": [
        "# bathrooms, bedrooms and beds"
      ]
    },
    {
      "cell_type": "code",
      "metadata": {
        "id": "Z5tfV1B_dOhl"
      },
      "source": [
        "\n",
        "# Missing values will be replaced with the median (to avoid strange fractions)\n",
        "for col in ['bathrooms', 'bedrooms', 'beds']:\n",
        "    combine_data[col].fillna(combine_data[col].median(), inplace=True)\n"
      ],
      "execution_count": 19,
      "outputs": []
    },
    {
      "cell_type": "markdown",
      "metadata": {
        "id": "OwVlBiz-g60P"
      },
      "source": [
        "\n",
        "#bed_type"
      ]
    },
    {
      "cell_type": "code",
      "metadata": {
        "id": "fZSbyj17gPGQ",
        "colab": {
          "base_uri": "https://localhost:8080/"
        },
        "outputId": "fa15125c-159a-4383-eef5-bce2821443dc"
      },
      "source": [
        "\n",
        "combine_data.bed_type.value_counts()"
      ],
      "execution_count": 20,
      "outputs": [
        {
          "output_type": "execute_result",
          "data": {
            "text/plain": [
              "Real Bed         97150\n",
              "Futon             1036\n",
              "Pull-out Sofa      806\n",
              "Airbed             646\n",
              "Couch              360\n",
              "Name: bed_type, dtype: int64"
            ]
          },
          "metadata": {
            "tags": []
          },
          "execution_count": 20
        }
      ]
    },
    {
      "cell_type": "markdown",
      "metadata": {
        "id": "HV_yebEyhLxL"
      },
      "source": [
        "Most listings have the same bed type so this feature can be dropped."
      ]
    },
    {
      "cell_type": "code",
      "metadata": {
        "id": "ruDJ3jwChEkt"
      },
      "source": [
        "combine_data.drop('bed_type', axis=1, inplace=True)"
      ],
      "execution_count": 21,
      "outputs": []
    },
    {
      "cell_type": "markdown",
      "metadata": {
        "id": "74fOQqjnhRa-"
      },
      "source": [
        "#amenities"
      ]
    },
    {
      "cell_type": "markdown",
      "metadata": {
        "id": "dVqy3DXnhWD1"
      },
      "source": [
        "Amenities is a list of additional features in the property, e.g. whether it has a TV or parking. Examples are below:"
      ]
    },
    {
      "cell_type": "code",
      "metadata": {
        "id": "U2wuWYgfhNxT",
        "colab": {
          "base_uri": "https://localhost:8080/"
        },
        "outputId": "2568757c-dfc2-495a-b551-f3841c77becf"
      },
      "source": [
        "# Example of amenities listed\n",
        "combine_data.amenities[:1].values"
      ],
      "execution_count": 22,
      "outputs": [
        {
          "output_type": "execute_result",
          "data": {
            "text/plain": [
              "array(['{\"Wireless Internet\",\"Air conditioning\",Kitchen,Heating,\"Family/kid friendly\",Essentials,\"Hair dryer\",Iron,\"translation missing: en.hosting_amenity_50\"}'],\n",
              "      dtype=object)"
            ]
          },
          "metadata": {
            "tags": []
          },
          "execution_count": 22
        }
      ]
    },
    {
      "cell_type": "code",
      "metadata": {
        "id": "lspp_SmxhdQW",
        "colab": {
          "base_uri": "https://localhost:8080/"
        },
        "outputId": "d551ba6a-029d-43e6-ad5f-58e4ba2e8c67"
      },
      "source": [
        "# Creating a set of all possible amenities\n",
        "amenities_list = list(combine_data.amenities)\n",
        "amenities_list_string = \" \".join(amenities_list)\n",
        "amenities_list_string = amenities_list_string.replace('{', '')\n",
        "amenities_list_string = amenities_list_string.replace('}', ',')\n",
        "amenities_list_string = amenities_list_string.replace('\"', '')\n",
        "amenities_set = [x.strip() for x in amenities_list_string.split(',')]\n",
        "amenities_set = set(amenities_set)\n",
        "amenities_set"
      ],
      "execution_count": 23,
      "outputs": [
        {
          "output_type": "execute_result",
          "data": {
            "text/plain": [
              "{'',\n",
              " '24-hour check-in',\n",
              " 'Accessible-height bed',\n",
              " 'Accessible-height toilet',\n",
              " 'Air conditioning',\n",
              " 'Air purifier',\n",
              " 'BBQ grill',\n",
              " 'Baby bath',\n",
              " 'Baby monitor',\n",
              " 'Babysitter recommendations',\n",
              " 'Bath towel',\n",
              " 'Bathtub',\n",
              " 'Bathtub with shower chair',\n",
              " 'Beach essentials',\n",
              " 'Beachfront',\n",
              " 'Bed linens',\n",
              " 'Body soap',\n",
              " 'Breakfast',\n",
              " 'Buzzer/wireless intercom',\n",
              " 'Cable TV',\n",
              " 'Carbon monoxide detector',\n",
              " 'Cat(s)',\n",
              " 'Changing table',\n",
              " 'Children’s books and toys',\n",
              " 'Children’s dinnerware',\n",
              " 'Cleaning before checkout',\n",
              " 'Coffee maker',\n",
              " 'Cooking basics',\n",
              " 'Crib',\n",
              " 'Disabled parking spot',\n",
              " 'Dishes and silverware',\n",
              " 'Dishwasher',\n",
              " 'Dog(s)',\n",
              " 'Doorman',\n",
              " 'Doorman Entry',\n",
              " 'Dryer',\n",
              " 'EV charger',\n",
              " 'Elevator',\n",
              " 'Elevator in building',\n",
              " 'Essentials',\n",
              " 'Ethernet connection',\n",
              " 'Extra pillows and blankets',\n",
              " 'Family/kid friendly',\n",
              " 'Fire extinguisher',\n",
              " 'Fireplace guards',\n",
              " 'Firm matress',\n",
              " 'Firm mattress',\n",
              " 'First aid kit',\n",
              " 'Fixed grab bars for shower & toilet',\n",
              " 'Flat',\n",
              " 'Flat smooth pathway to front door',\n",
              " 'Free parking on premises',\n",
              " 'Free parking on street',\n",
              " 'Game console',\n",
              " 'Garden or backyard',\n",
              " 'Grab-rails for shower and toilet',\n",
              " 'Ground floor access',\n",
              " 'Gym',\n",
              " 'Hair dryer',\n",
              " 'Hand or paper towel',\n",
              " 'Hand soap',\n",
              " 'Handheld shower head',\n",
              " 'Hangers',\n",
              " 'Heating',\n",
              " 'High chair',\n",
              " 'Host greets you',\n",
              " 'Hot tub',\n",
              " 'Hot water',\n",
              " 'Hot water kettle',\n",
              " 'Indoor fireplace',\n",
              " 'Internet',\n",
              " 'Iron',\n",
              " 'Keypad',\n",
              " 'Kitchen',\n",
              " 'Lake access',\n",
              " 'Laptop friendly workspace',\n",
              " 'Lock on bedroom door',\n",
              " 'Lockbox',\n",
              " 'Long term stays allowed',\n",
              " 'Luggage dropoff allowed',\n",
              " 'Microwave',\n",
              " 'Other',\n",
              " 'Other pet(s)',\n",
              " 'Outlet covers',\n",
              " 'Oven',\n",
              " 'Pack ’n Play/travel crib',\n",
              " 'Paid parking off premises',\n",
              " 'Path to entrance lit at night',\n",
              " 'Patio or balcony',\n",
              " 'Pets allowed',\n",
              " 'Pets live on this property',\n",
              " 'Pocket wifi',\n",
              " 'Pool',\n",
              " 'Private bathroom',\n",
              " 'Private entrance',\n",
              " 'Private living room',\n",
              " 'Refrigerator',\n",
              " 'Roll-in shower with chair',\n",
              " 'Room-darkening shades',\n",
              " 'Safety card',\n",
              " 'Self Check-In',\n",
              " 'Shampoo',\n",
              " 'Single level home',\n",
              " 'Ski in/Ski out',\n",
              " 'Smart lock',\n",
              " 'Smartlock',\n",
              " 'Smoke detector',\n",
              " 'Smoking allowed',\n",
              " 'Stair gates',\n",
              " 'Step-free access',\n",
              " 'Stove',\n",
              " 'Suitable for events',\n",
              " 'TV',\n",
              " 'Table corner guards',\n",
              " 'Toilet paper',\n",
              " 'Washer',\n",
              " 'Washer / Dryer',\n",
              " 'Waterfront',\n",
              " 'Well-lit path to entrance',\n",
              " 'Wheelchair accessible',\n",
              " 'Wide clearance to bed',\n",
              " 'Wide clearance to shower & toilet',\n",
              " 'Wide clearance to shower and toilet',\n",
              " 'Wide doorway',\n",
              " 'Wide entryway',\n",
              " 'Wide hallway clearance',\n",
              " 'Window guards',\n",
              " 'Wireless Internet',\n",
              " 'smooth pathway to front door',\n",
              " 'translation missing: en.hosting_amenity_49',\n",
              " 'translation missing: en.hosting_amenity_50'}"
            ]
          },
          "metadata": {
            "tags": []
          },
          "execution_count": 23
        }
      ]
    },
    {
      "cell_type": "markdown",
      "metadata": {
        "id": "UJe9ngF3ijmU"
      },
      "source": [
        "In the list above, some amenities are more important than others (e.g. a balcony is more likely to increase price than a fax machine), and some are likely to be fairly uncommon (e.g. 'Electric profiling bed') \n",
        "\n",
        "The amenities chosen are (slashes indicate separate categories that can be combined):\n",
        "\n",
        "* 24-hour check-in\n",
        "* Air conditioning/central air conditioning\n",
        "* Amazon Echo/Apple TV/DVD player/game console/Netflix/ projector and screen/smart TV (i.e. non-basic electronics)\n",
        "* BBQ grill/fire pit/propane barbeque\n",
        "* Balcony/patio or balcony\n",
        "* Beach view/beachfront/lake access/mountain view/ski-in ski-out/waterfront (i.e. great location/views)\n",
        "* Bed linens\n",
        "* Breakfast\n",
        "* Cable TV/TV\n",
        "* Coffee maker/espresso machine\n",
        "* Cooking basics\n",
        "* Dishwasher /Dryer/Washer/Washer and dryer\n",
        "* Elevator\n",
        "* Exercise equipment/gym/private gym/shared gym\n",
        "* Family/kid friendly, or anything containing 'children'\n",
        "* Free parking on premises/free street parking/outdoor parking/paid parking off premises/paid parking on premises\n",
        "* Garden or backyard/outdoor seating/sun loungers/terrace\n",
        "Host greets you\n",
        "* Hot tub/jetted tub/private hot tub/sauna/shared hot tub/pool/private pool/shared pool\n",
        "* Internet/pocket wifi/wifi\n",
        "* Long term stays allowed\n",
        "* Pets allowed/cat(s)/dog(s)/pets live on this property/other pet(s)\n",
        "* Private entrance\n",
        "* Safe/security system\n",
        "* Self check-in\n",
        "* Smoking allowed\n",
        "* Step-free access/wheelchair accessible, or anything containing 'accessible'\n",
        "* Suitable for events"
      ]
    },
    {
      "cell_type": "code",
      "metadata": {
        "id": "K7ZIllbTiWZm"
      },
      "source": [
        "combine_data.loc[combine_data['amenities'].str.contains('24-hour check-in'), 'check_in_24h'] = 1\n",
        "combine_data.loc[combine_data['amenities'].str.contains('Air conditioning|Central air conditioning'), 'air_conditioning'] = 1\n",
        "combine_data.loc[combine_data['amenities'].str.contains('Amazon Echo|Apple TV|Game console|Netflix|Projector and screen|Smart TV'), 'high_end_electronics'] = 1\n",
        "combine_data.loc[combine_data['amenities'].str.contains('BBQ grill|Fire pit|Propane barbeque'), 'bbq'] = 1\n",
        "combine_data.loc[combine_data['amenities'].str.contains('Balcony|Patio'), 'balcony'] = 1\n",
        "combine_data.loc[combine_data['amenities'].str.contains('Beach view|Beachfront|Lake access|Mountain view|Ski-in/Ski-out|Waterfront'), 'nature_and_views'] = 1\n",
        "combine_data.loc[combine_data['amenities'].str.contains('Bed linens'), 'bed_linen'] = 1\n",
        "combine_data.loc[combine_data['amenities'].str.contains('Breakfast'), 'breakfast'] = 1\n",
        "combine_data.loc[combine_data['amenities'].str.contains('TV'), 'tv'] = 1\n",
        "combine_data.loc[combine_data['amenities'].str.contains('Coffee maker|Espresso machine'), 'coffee_machine'] = 1\n",
        "combine_data.loc[combine_data['amenities'].str.contains('Cooking basics'), 'cooking_basics'] = 1\n",
        "combine_data.loc[combine_data['amenities'].str.contains('Dishwasher|Dryer|Washer'), 'white_goods'] = 1\n",
        "combine_data.loc[combine_data['amenities'].str.contains('Elevator'), 'elevator'] = 1\n",
        "combine_data.loc[combine_data['amenities'].str.contains('Exercise equipment|Gym|gym'), 'gym'] = 1\n",
        "combine_data.loc[combine_data['amenities'].str.contains('Family/kid friendly|Children|children'), 'child_friendly'] = 1\n",
        "combine_data.loc[combine_data['amenities'].str.contains('parking'), 'parking'] = 1\n",
        "combine_data.loc[combine_data['amenities'].str.contains('Garden|Outdoor|Sun loungers|Terrace'), 'outdoor_space'] = 1\n",
        "combine_data.loc[combine_data['amenities'].str.contains('Host greets you'), 'host_greeting'] = 1\n",
        "combine_data.loc[combine_data['amenities'].str.contains('Hot tub|Jetted tub|hot tub|Sauna|Pool|pool'), 'hot_tub_sauna_or_pool'] = 1\n",
        "combine_data.loc[combine_data['amenities'].str.contains('Internet|Pocket wifi|Wifi'), 'internet'] = 1\n",
        "combine_data.loc[combine_data['amenities'].str.contains('Long term stays allowed'), 'long_term_stays'] = 1\n",
        "combine_data.loc[combine_data['amenities'].str.contains('Pets|pet|Cat(s)|Dog(s)'), 'pets_allowed'] = 1\n",
        "combine_data.loc[combine_data['amenities'].str.contains('Private entrance'), 'private_entrance'] = 1\n",
        "combine_data.loc[combine_data['amenities'].str.contains('Safe|Security system'), 'secure'] = 1\n",
        "combine_data.loc[combine_data['amenities'].str.contains('Self check-in'), 'self_check_in'] = 1\n",
        "combine_data.loc[combine_data['amenities'].str.contains('Smoking allowed'), 'smoking_allowed'] = 1\n",
        "combine_data.loc[combine_data['amenities'].str.contains('Step-free access|Wheelchair|Accessible'), 'accessible'] = 1\n",
        "combine_data.loc[combine_data['amenities'].str.contains('Suitable for events'), 'event_suitable'] = 1"
      ],
      "execution_count": 24,
      "outputs": []
    },
    {
      "cell_type": "code",
      "metadata": {
        "id": "weXlr8Efzn7N",
        "colab": {
          "base_uri": "https://localhost:8080/"
        },
        "outputId": "9ce3cf97-aa0c-4be1-e1e9-d8d8d0a5d388"
      },
      "source": [
        "cols_to_replace_nulls = combine_data.iloc[:,27:].columns\n",
        "cols_to_replace_nulls"
      ],
      "execution_count": 28,
      "outputs": [
        {
          "output_type": "execute_result",
          "data": {
            "text/plain": [
              "Index(['check_in_24h', 'air_conditioning', 'high_end_electronics', 'bbq',\n",
              "       'balcony', 'nature_and_views', 'bed_linen', 'breakfast', 'tv',\n",
              "       'coffee_machine', 'cooking_basics', 'white_goods', 'elevator', 'gym',\n",
              "       'child_friendly', 'parking', 'outdoor_space', 'host_greeting',\n",
              "       'hot_tub_sauna_or_pool', 'internet', 'long_term_stays', 'pets_allowed',\n",
              "       'private_entrance', 'secure', 'self_check_in', 'smoking_allowed',\n",
              "       'accessible', 'event_suitable'],\n",
              "      dtype='object')"
            ]
          },
          "metadata": {
            "tags": []
          },
          "execution_count": 28
        }
      ]
    },
    {
      "cell_type": "code",
      "metadata": {
        "id": "PHDYyeJxsRpa",
        "colab": {
          "base_uri": "https://localhost:8080/"
        },
        "outputId": "8c2d1262-afec-456b-cd63-2ab5e44bc3ce"
      },
      "source": [
        "# Replacing nulls with zeros for new columns\n",
        "cols_to_replace_nulls = combine_data.iloc[:,27:].columns\n",
        "combine_data[cols_to_replace_nulls] = combine_data[cols_to_replace_nulls].fillna(0)\n",
        "\n",
        "# Produces a list of amenity features where one category (true or false) contains fewer than 10% of listings\n",
        "infrequent_amenities = []\n",
        "for col in combine_data.iloc[:,27:].columns:\n",
        "    if combine_data[col].sum() < len(combine_data)/10:\n",
        "        infrequent_amenities.append(col)\n",
        "print(infrequent_amenities)\n",
        "\n",
        "# Dropping infrequent amenity features\n",
        "combine_data.drop(infrequent_amenities, axis=1, inplace=True)\n",
        "\n",
        "# Dropping the original amenity feature\n",
        "combine_data.drop('amenities', axis=1, inplace=True)"
      ],
      "execution_count": 29,
      "outputs": [
        {
          "output_type": "stream",
          "text": [
            "['high_end_electronics', 'bbq', 'balcony', 'nature_and_views', 'bed_linen', 'coffee_machine', 'cooking_basics', 'outdoor_space', 'host_greeting', 'long_term_stays', 'private_entrance', 'self_check_in', 'smoking_allowed', 'accessible', 'event_suitable']\n"
          ],
          "name": "stdout"
        }
      ]
    },
    {
      "cell_type": "markdown",
      "metadata": {
        "id": "SzVzgF_814Kg"
      },
      "source": [
        "# first_review and last_review"
      ]
    },
    {
      "cell_type": "code",
      "metadata": {
        "id": "XlKMTK0W2qas",
        "colab": {
          "base_uri": "https://localhost:8080/"
        },
        "outputId": "e62082c5-e88c-4a27-8b0e-84dccf06bdea"
      },
      "source": [
        "print(f\"Null values in 'first_review': {round(100*combine_data.first_review.isna().sum()/len(combine_data),1)}%\")\n",
        "print(f\"Null values in 'review_scores_rating': {round(100*combine_data.review_scores_rating .isna().sum()/len(combine_data),1)}%\")"
      ],
      "execution_count": 30,
      "outputs": [
        {
          "output_type": "stream",
          "text": [
            "Null values in 'first_review': 21.4%\n",
            "Null values in 'review_scores_rating': 22.6%\n"
          ],
          "name": "stdout"
        }
      ]
    },
    {
      "cell_type": "code",
      "metadata": {
        "id": "Bed-4QXE1jPM"
      },
      "source": [
        "combine_data.first_review = pd.to_datetime(combine_data.first_review) # Converting to datetime\n",
        "\n",
        "# Calculating the number of days between the first review and the date the data was scraped\n",
        "combine_data['time_since_first_review'] = (datetime(2019, 4, 9) - combine_data.first_review).astype('timedelta64[D]')"
      ],
      "execution_count": 31,
      "outputs": []
    },
    {
      "cell_type": "code",
      "metadata": {
        "id": "iMiYiZlU48WA",
        "colab": {
          "base_uri": "https://localhost:8080/",
          "height": 320
        },
        "outputId": "292168fc-d57a-41df-a459-7ec0ab10ea93"
      },
      "source": [
        "# Distribution of the number of days since first review\n",
        "combine_data.time_since_first_review.hist(figsize=(15,5), bins=30);"
      ],
      "execution_count": 32,
      "outputs": [
        {
          "output_type": "display_data",
          "data": {
            "image/png": "[encoded data removed]",
            "text/plain": [
              "<Figure size 1080x360 with 1 Axes>"
            ]
          },
          "metadata": {
            "tags": [],
            "needs_background": "light"
          }
        }
      ]
    },
    {
      "cell_type": "code",
      "metadata": {
        "id": "lkhhTegV5WMW"
      },
      "source": [
        "def bin_column(col, bins, labels, na_label='unknown'):\n",
        "    \"\"\"\n",
        "    Takes in a column name, bin cut points and labels, replaces the original column with a\n",
        "    binned version, and replaces nulls (with 'unknown' if unspecified).\n",
        "    \"\"\"\n",
        "    combine_data[col] = pd.cut(combine_data[col], bins=bins, labels=labels, include_lowest=True)\n",
        "    combine_data[col] = combine_data[col].astype('str')\n",
        "    combine_data[col].fillna(na_label, inplace=True)"
      ],
      "execution_count": 33,
      "outputs": []
    },
    {
      "cell_type": "code",
      "metadata": {
        "id": "DxkjO39J59b_"
      },
      "source": [
        "# Binning time since first review\n",
        "bin_column('time_since_first_review',\n",
        "           bins=[0, 182, 365, 730, 1460, max(combine_data.time_since_first_review)],\n",
        "           labels=['0-6 months',\n",
        "                   '6-12 months',\n",
        "                   '1-2 years',\n",
        "                   '2-3 years',\n",
        "                   '4+ years'],\n",
        "           na_label='no reviews')"
      ],
      "execution_count": 34,
      "outputs": []
    },
    {
      "cell_type": "markdown",
      "metadata": {
        "id": "vIXm0DBA6I1S"
      },
      "source": [
        "The same process will be followed for last_review:"
      ]
    },
    {
      "cell_type": "code",
      "metadata": {
        "id": "yzjg-76f6B8p"
      },
      "source": [
        "combine_data.last_review = pd.to_datetime(combine_data.last_review) # Converting to datetime\n",
        "\n",
        "# Calculating the number of days between the most recent review and the date the data was scraped\n",
        "combine_data['time_since_last_review'] = (datetime(2019, 4, 9) - combine_data.last_review).astype('timedelta64[D]')"
      ],
      "execution_count": 35,
      "outputs": []
    },
    {
      "cell_type": "code",
      "metadata": {
        "id": "2N7iNfWb6Ty2",
        "colab": {
          "base_uri": "https://localhost:8080/",
          "height": 320
        },
        "outputId": "c13017c1-847f-47b2-9a33-08cc9b00e983"
      },
      "source": [
        "# Distribution of the number of days since last review\n",
        "combine_data.time_since_last_review.hist(figsize=(15,5), bins=30);"
      ],
      "execution_count": 36,
      "outputs": [
        {
          "output_type": "display_data",
          "data": {
            "image/png": "[encoded data removed]",
            "text/plain": [
              "<Figure size 1080x360 with 1 Axes>"
            ]
          },
          "metadata": {
            "tags": [],
            "needs_background": "light"
          }
        }
      ]
    },
    {
      "cell_type": "code",
      "metadata": {
        "id": "UfzeOeHg6adN"
      },
      "source": [
        "# Binning time since last review\n",
        "bin_column('time_since_last_review',\n",
        "           bins=[0, 14, 60, 182, 365, max(combine_data.time_since_last_review)],\n",
        "           labels=['0-2 weeks',\n",
        "                   '2-8 weeks',\n",
        "                   '2-6 months',\n",
        "                   '6-12 months',\n",
        "                   '1+ year'],\n",
        "           na_label='no reviews')"
      ],
      "execution_count": 37,
      "outputs": []
    },
    {
      "cell_type": "code",
      "metadata": {
        "id": "afE2ziPY6h-p"
      },
      "source": [
        "# Dropping last_review and first_review- \n",
        "combine_data.drop(['last_review','first_review'], axis=1, inplace=True)"
      ],
      "execution_count": 38,
      "outputs": []
    },
    {
      "cell_type": "markdown",
      "metadata": {
        "id": "kZgkUiEm-C8P"
      },
      "source": [
        "#review_scores_rating"
      ]
    },
    {
      "cell_type": "code",
      "metadata": {
        "id": "TP6dnI6F99Eg",
        "colab": {
          "base_uri": "https://localhost:8080/",
          "height": 225
        },
        "outputId": "d9587403-251e-40df-e80b-8aefb18fcb41"
      },
      "source": [
        "# Checking the distributions of the review ratings columns\n",
        "variables_to_plot = list(combine_data.columns[combine_data.columns.str.startswith(\"review_scores\") == True])\n",
        "fig = plt.figure(figsize=(12,8))\n",
        "for i, var_name in enumerate(variables_to_plot):\n",
        "    ax = fig.add_subplot(3,3,i+1)\n",
        "    combine_data[var_name].hist(bins=10,ax=ax)\n",
        "    ax.set_title(var_name)\n",
        "fig.tight_layout()\n",
        "plt.show()"
      ],
      "execution_count": 39,
      "outputs": [
        {
          "output_type": "display_data",
          "data": {
            "image/png": "[encoded data removed]",
            "text/plain": [
              "<Figure size 864x576 with 1 Axes>"
            ]
          },
          "metadata": {
            "tags": [],
            "needs_background": "light"
          }
        }
      ]
    },
    {
      "cell_type": "markdown",
      "metadata": {
        "id": "5jMUkTSf-XrO"
      },
      "source": [
        "The majority of ratings are 9 or 10 out of 10, as also seen in the value count below. Therefore for these columns, 9/10 and 10/10 will be kept as separate groups, and 1-8/10 will be binned together"
      ]
    },
    {
      "cell_type": "code",
      "metadata": {
        "id": "4wc8PDXt-xDN"
      },
      "source": [
        "# Binning column scored out of 100\n",
        "bin_column('review_scores_rating',\n",
        "           bins=[0, 80, 95, 100],\n",
        "           labels=['0-79/100', '80-94/100', '95-100/100'],\n",
        "           na_label='no reviews')"
      ],
      "execution_count": 40,
      "outputs": []
    },
    {
      "cell_type": "markdown",
      "metadata": {
        "id": "Hfw3UvXHG0qW"
      },
      "source": [
        "#host_since"
      ]
    },
    {
      "cell_type": "code",
      "metadata": {
        "id": "6hKc4XIeGDLd",
        "colab": {
          "base_uri": "https://localhost:8080/"
        },
        "outputId": "4cbcba02-c10c-4c7a-c3d1-00af6167066f"
      },
      "source": [
        "# Converting to datetime\n",
        "combine_data.host_since = pd.to_datetime(combine_data.host_since) \n",
        "\n",
        "# Calculating the number of days\n",
        "combine_data['host_days_active'] = (datetime(2019, 4, 9) - combine_data.host_since).astype('timedelta64[D]')\n",
        "\n",
        "# Printing mean and median\n",
        "print(\"Mean days as host:\", round(combine_data['host_days_active'].mean(),0))\n",
        "print(\"Median days as host:\", combine_data['host_days_active'].median())\n",
        "\n",
        "# Replacing null values with the median\n",
        "combine_data.host_days_active.fillna(combine_data.host_days_active.median(), inplace=True)"
      ],
      "execution_count": 41,
      "outputs": [
        {
          "output_type": "stream",
          "text": [
            "Mean days as host: 1723.0\n",
            "Median days as host: 1654.0\n"
          ],
          "name": "stdout"
        }
      ]
    },
    {
      "cell_type": "code",
      "metadata": {
        "id": "zOO-Uq8hMDZT"
      },
      "source": [
        "combine_data.drop('host_since',axis=1,inplace=True)"
      ],
      "execution_count": 42,
      "outputs": []
    },
    {
      "cell_type": "markdown",
      "metadata": {
        "id": "8wEPbuvsH_1d"
      },
      "source": [
        "#host_response_rate"
      ]
    },
    {
      "cell_type": "code",
      "metadata": {
        "id": "85HKKZNYHgmP",
        "colab": {
          "base_uri": "https://localhost:8080/"
        },
        "outputId": "f331d960-9b27-4b8c-f795-4ebbb96f1cac"
      },
      "source": [
        "# Removing the % sign from the host_response_rate string and converting to an integer\n",
        "combine_data.host_response_rate = combine_data.host_response_rate.str[:-1].astype('float64')\n",
        "\n",
        "print(\"Mean host response rate:\", round(combine_data['host_response_rate'].mean(),0))\n",
        "print(\"Median host response rate:\", combine_data['host_response_rate'].median())\n",
        "print(f\"Proportion of 100% host response rates: {round(((combine_data.host_response_rate == 100.0).sum()/combine_data.host_response_rate.count())*100,1)}%\")"
      ],
      "execution_count": 43,
      "outputs": [
        {
          "output_type": "stream",
          "text": [
            "Mean host response rate: 94.0\n",
            "Median host response rate: 100.0\n",
            "Proportion of 100% host response rates: 77.3%\n"
          ],
          "name": "stdout"
        }
      ]
    },
    {
      "cell_type": "code",
      "metadata": {
        "id": "Syd8grt1JnrX",
        "colab": {
          "base_uri": "https://localhost:8080/"
        },
        "outputId": "778eb89f-70b9-4255-e875-1bf564c25163"
      },
      "source": [
        "# Bin into four categories\n",
        "combine_data.host_response_rate = pd.cut(combine_data.host_response_rate, bins=[0, 50, 90, 99, 100], labels=['0-49%', '50-89%', '90-99%', '100%'], include_lowest=True)\n",
        "\n",
        "# Converting to string\n",
        "combine_data.host_response_rate = combine_data.host_response_rate.astype('str')\n",
        "\n",
        "# Replace nulls with 'unknown'\n",
        "combine_data.host_response_rate.replace('nan', 'unknown', inplace=True)\n",
        "\n",
        "# Category counts\n",
        "combine_data.host_response_rate.value_counts()"
      ],
      "execution_count": 44,
      "outputs": [
        {
          "output_type": "execute_result",
          "data": {
            "text/plain": [
              "100%       58248\n",
              "unknown    24676\n",
              "50-89%      9890\n",
              "90-99%      4338\n",
              "0-49%       2846\n",
              "Name: host_response_rate, dtype: int64"
            ]
          },
          "metadata": {
            "tags": []
          },
          "execution_count": 44
        }
      ]
    },
    {
      "cell_type": "code",
      "metadata": {
        "id": "vm0wKlqy-5sX"
      },
      "source": [
        "data_EDA=combine_data.copy()"
      ],
      "execution_count": 45,
      "outputs": []
    },
    {
      "cell_type": "markdown",
      "metadata": {
        "id": "2oEU9XkdT0xb"
      },
      "source": [
        "# converting categorical column into numerical"
      ]
    },
    {
      "cell_type": "code",
      "metadata": {
        "id": "e79pg3q4TzeC",
        "colab": {
          "base_uri": "https://localhost:8080/"
        },
        "outputId": "37cffa05-5aa0-4c8d-db1c-7ccdac67c860"
      },
      "source": [
        "cat_var=combine_data.select_dtypes(['object']).columns\n",
        "\n",
        "cat_var"
      ],
      "execution_count": 46,
      "outputs": [
        {
          "output_type": "execute_result",
          "data": {
            "text/plain": [
              "Index(['property_type', 'room_type', 'cancellation_policy',\n",
              "       'host_identity_verified', 'host_response_rate', 'instant_bookable',\n",
              "       'review_scores_rating', 'data', 'time_since_first_review',\n",
              "       'time_since_last_review'],\n",
              "      dtype='object')"
            ]
          },
          "metadata": {
            "tags": []
          },
          "execution_count": 46
        }
      ]
    },
    {
      "cell_type": "code",
      "metadata": {
        "id": "amLsOjQfTzoH"
      },
      "source": [
        "cat_vars=['property_type', 'room_type', 'cancellation_policy',\n",
        "       'host_identity_verified', 'host_response_rate', 'instant_bookable',\n",
        "       'review_scores_rating', 'time_since_first_review',\n",
        "       'time_since_last_review']"
      ],
      "execution_count": 47,
      "outputs": []
    },
    {
      "cell_type": "code",
      "metadata": {
        "id": "cm_X0S3QTzVo",
        "colab": {
          "base_uri": "https://localhost:8080/"
        },
        "outputId": "666c1e70-a0bf-4a69-85ee-5519bee3ebf1"
      },
      "source": [
        "# for cleaned train data\n",
        "for col in cat_vars:\n",
        "    dummy=pd.get_dummies(combine_data[col],drop_first=True,prefix=col)\n",
        "    combine_data=pd.concat([combine_data,dummy],axis=1)\n",
        "    del combine_data[col]\n",
        "    print(col)\n",
        "del dummy"
      ],
      "execution_count": 48,
      "outputs": [
        {
          "output_type": "stream",
          "text": [
            "property_type\n",
            "room_type\n",
            "cancellation_policy\n",
            "host_identity_verified\n",
            "host_response_rate\n",
            "instant_bookable\n",
            "review_scores_rating\n",
            "time_since_first_review\n",
            "time_since_last_review\n"
          ],
          "name": "stdout"
        }
      ]
    },
    {
      "cell_type": "markdown",
      "metadata": {
        "id": "MEjQOJIt8TKt"
      },
      "source": [
        "# Data cleaning is done , Now we are separating train and test data for model building process"
      ]
    },
    {
      "cell_type": "code",
      "metadata": {
        "id": "ndAphpLT8Eye"
      },
      "source": [
        "train_LDA=combine_data[combine_data['data']=='train']\n",
        "del train_LDA['data']\n",
        "test_LDA=combine_data[combine_data['data']=='test']\n",
        "test_LDA.drop(['log_price','data'],axis=1,inplace=True)"
      ],
      "execution_count": 49,
      "outputs": []
    },
    {
      "cell_type": "markdown",
      "metadata": {
        "id": "s8SrFwkI-aKg"
      },
      "source": [
        "# Exporting train and test data for modelling building process"
      ]
    },
    {
      "cell_type": "code",
      "metadata": {
        "id": "x44dutzj8Fha"
      },
      "source": [
        "train_LDA.to_csv('cleaned_train_data.csv',index=False)\n",
        "test_LDA.to_csv('cleaned_test_data.csv',index=False)"
      ],
      "execution_count": 50,
      "outputs": []
    }
  ]
}