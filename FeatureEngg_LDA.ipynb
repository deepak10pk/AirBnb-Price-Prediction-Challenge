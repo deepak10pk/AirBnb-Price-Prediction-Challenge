{
  "nbformat": 4,
  "nbformat_minor": 0,
  "metadata": {
    "colab": {
      "name": "FeatureEngg_LDA.ipynb",
      "provenance": [],
      "collapsed_sections": []
    },
    "kernelspec": {
      "name": "python3",
      "display_name": "Python 3"
    }
  },
  "cells": [
    {
      "cell_type": "markdown",
      "metadata": {
        "id": "Y39XAjDDdFAF"
      },
      "source": [
        "# Feature engineering in description field\n",
        "\n",
        "  * Topic Modelling"
      ]
    },
    {
      "cell_type": "code",
      "metadata": {
        "id": "stxf-Ug9Y6Bn"
      },
      "source": [
        "# For Analysis\n",
        "import numpy as np\n",
        "import pandas as pd\n",
        "\n",
        "# For Visualizations\n",
        "import matplotlib.pyplot as plt\n",
        "import seaborn as sns\n",
        "\n",
        "#For Modeling\n",
        "from sklearn import metrics\n",
        "from sklearn.model_selection import RandomizedSearchCV,train_test_split,GridSearchCV\n",
        "from sklearn.linear_model import LogisticRegression, LinearRegression\n",
        "from sklearn.ensemble import RandomForestRegressor\n",
        "import xgboost as xgb\n",
        "from xgboost import plot_importance\n",
        "from sklearn.metrics import explained_variance_score, mean_squared_error, r2_score\n",
        "\n",
        "#Hide warnings\n",
        "import warnings\n",
        "warnings.filterwarnings('ignore')\n",
        "%matplotlib inline\n",
        "from datetime import datetime\n",
        "\n",
        "\n",
        "# for feature engineering\n",
        "from sklearn import linear_model\n",
        "from sklearn import preprocessing\n",
        "import matplotlib.pyplot as plt\n",
        "#from haversine import haversine \n",
        "from progressbar import ProgressBar\n",
        "import yaml\n",
        "\n",
        "## for text field processing\n",
        "import nltk\n",
        "from nltk.sentiment.vader import SentimentIntensityAnalyzer\n",
        "from sklearn import datasets, feature_extraction, decomposition\n",
        "from nltk.stem.porter import PorterStemmer\n",
        "\n",
        "import gensim\n",
        "from gensim import corpora\n",
        "import re\n",
        "import nltk\n",
        "from nltk.corpus import stopwords\n",
        "from stop_words import get_stop_words\n",
        "import operator\n",
        "\n"
      ],
      "execution_count": 1,
      "outputs": []
    },
    {
      "cell_type": "code",
      "metadata": {
        "id": "ocN0j9fVZpk2"
      },
      "source": [
        "!pip install pyLDAvis\n",
        "import pyLDAvis\n",
        "import pyLDAvis.gensim\n",
        "nltk.download('vader_lexicon')\n",
        "!pip install stop-words\n",
        "import stop_words\n",
        "from stop_words import get_stop_words\n",
        "nltk.download('punkt')"
      ],
      "execution_count": 32,
      "outputs": []
    },
    {
      "cell_type": "markdown",
      "metadata": {
        "id": "WnmS6VYwefKz"
      },
      "source": [
        "# Importing data"
      ]
    },
    {
      "cell_type": "code",
      "metadata": {
        "id": "8Zv6IPv6eXaz"
      },
      "source": [
        "#!!wget https://www.dropbox.com/s/2pyir77wrhd6f4u/case_study.zip"
      ],
      "execution_count": 6,
      "outputs": []
    },
    {
      "cell_type": "code",
      "metadata": {
        "id": "_tbiDYAdfOy-"
      },
      "source": [
        "#!unzip /content/case_study.zip"
      ],
      "execution_count": 7,
      "outputs": []
    },
    {
      "cell_type": "code",
      "metadata": {
        "id": "Y0gdARc9fIZd"
      },
      "source": [
        "# importing train data\n",
        "train_data=pd.read_csv('/content/train.csv')\n",
        "\n",
        "# importing test data\n",
        "test_data=pd.read_excel('/content/test.xlsx')"
      ],
      "execution_count": 8,
      "outputs": []
    },
    {
      "cell_type": "code",
      "metadata": {
        "colab": {
          "base_uri": "https://localhost:8080/"
        },
        "id": "Mve6b5Y2lVEu",
        "outputId": "eaa344b7-8800-4ec1-c437-2f63447e5810"
      },
      "source": [
        "train_data.shape , test_data.shape"
      ],
      "execution_count": 12,
      "outputs": [
        {
          "output_type": "execute_result",
          "data": {
            "text/plain": [
              "((49999, 31), (24111, 29))"
            ]
          },
          "metadata": {
            "tags": []
          },
          "execution_count": 12
        }
      ]
    },
    {
      "cell_type": "code",
      "metadata": {
        "id": "LqlfbQtktuXz"
      },
      "source": [
        "# Droping unknown column\n",
        "\n",
        "train_data.drop(' ',axis=1,inplace=True)\n",
        "test_data.drop(' ',axis=1,inplace=True)"
      ],
      "execution_count": 23,
      "outputs": []
    },
    {
      "cell_type": "code",
      "metadata": {
        "id": "4dkwMPadZ_uj"
      },
      "source": [
        "## Finding sentiment intensity score for description field in train data\n",
        "## saving \"compound\" score to listings dataframe\n",
        "\n",
        "train_data[\"Description_Length\"] = np.nan\n",
        "sent_int = SentimentIntensityAnalyzer()\n",
        "\n",
        "for i in range(len(train_data[\"description\"])):\n",
        "    s = train_data['description'][i]\n",
        "    \n",
        "    ## generating sentiment intensity score for descriptions\n",
        "    sentiment = sent_int.polarity_scores(s)\n",
        "    train_data.loc[i, \"Sentiment_intensity\"] = sentiment[\"compound\"]\n",
        "    \n",
        "    ## Findig the length of the description\n",
        "    train_data.loc[i,\"Description_Length\"] = len(train_data[\"description\"][i].split())\n",
        "\n",
        "\n",
        "\n"
      ],
      "execution_count": 11,
      "outputs": []
    },
    {
      "cell_type": "code",
      "metadata": {
        "id": "DRFw_Qg9a0pV"
      },
      "source": [
        "## Topic modelling on description using LDA in train data\n",
        "stop = get_stop_words('en')\n",
        "add_stop_word = ['etc', 'well', 'll', 'get', 'within, ''please', 'good', 'many', 'l', 'g', 'c', \n",
        "                 'want']\n",
        "stop.extend(add_stop_word)\n",
        "desc = []\n",
        "\n",
        "## Creating a list of description\n",
        "desc_list = [train_data[\"description\"][i] for i in range(len(train_data[\"description\"]))]\n",
        "\n",
        "for i in desc_list:\n",
        "    ## tokanizing descrption into words\n",
        "    desc_list_w = nltk.tokenize.word_tokenize(i)\n",
        "    \n",
        "    ## converting all words to lower case\n",
        "    desc_lower = [w.lower() for w in desc_list_w]\n",
        "    \n",
        "    ## removing numerical values and special characters\n",
        "    desc_words = [w for w in desc_lower if re.search('^[a-z]+$',w)]\n",
        "    \n",
        "    ## removing stop words\n",
        "    desc_stopremoved = [w for w in desc_words if w not in stop]\n",
        "    \n",
        "    ## add tokens to list\n",
        "    desc.append(desc_stopremoved)"
      ],
      "execution_count": 14,
      "outputs": []
    },
    {
      "cell_type": "code",
      "metadata": {
        "colab": {
          "base_uri": "https://localhost:8080/"
        },
        "id": "5azr7mWxa0l4",
        "outputId": "b53b1866-875f-45dd-d9dc-f6fa8e5cd575"
      },
      "source": [
        "## Gensim's Dictionary encapsulates the mapping between words and their integer ids. \n",
        "desc_dict = corpora.Dictionary(desc)\n",
        "\n",
        "## filter out words which appear in less than 20 documents or more than 15% documents\n",
        "desc_dict.filter_extremes(no_below=20, no_above=0.15) \n",
        "print(desc_dict)\n",
        "\n",
        "## creating bag of words\n",
        "corpus = [desc_dict.doc2bow(d) for d in desc]\n",
        "len(corpus)"
      ],
      "execution_count": 15,
      "outputs": [
        {
          "output_type": "stream",
          "text": [
            "Dictionary(6243 unique tokens: ['bridge', 'brooklyn', 'brownstone', 'food', 'promenade']...)\n"
          ],
          "name": "stdout"
        },
        {
          "output_type": "execute_result",
          "data": {
            "text/plain": [
              "49999"
            ]
          },
          "metadata": {
            "tags": []
          },
          "execution_count": 15
        }
      ]
    },
    {
      "cell_type": "code",
      "metadata": {
        "id": "ZlCpriUJa0ks"
      },
      "source": [
        "## training an LDA model\n",
        "lda_model = gensim.models.LdaModel(corpus, alpha='auto', num_topics=5, id2word=desc_dict)"
      ],
      "execution_count": 22,
      "outputs": []
    },
    {
      "cell_type": "code",
      "metadata": {
        "colab": {
          "base_uri": "https://localhost:8080/"
        },
        "id": "cofkzqATa0jT",
        "outputId": "750a166f-128b-4591-c8db-f6ff7759f1af"
      },
      "source": [
        "## printing topics for lda model\n",
        "lda_model.show_topics(num_topics=5,num_words=30)"
      ],
      "execution_count": 17,
      "outputs": [
        {
          "output_type": "execute_result",
          "data": {
            "text/plain": [
              "[(0,\n",
              "  '0.007*\"fully\" + 0.007*\"towels\" + 0.007*\"guest\" + 0.007*\"closet\" + 0.007*\"cable\" + 0.007*\"microwave\" + 0.006*\"use\" + 0.006*\"unit\" + 0.006*\"bath\" + 0.006*\"dryer\" + 0.005*\"mattress\" + 0.005*\"shower\" + 0.005*\"internet\" + 0.005*\"studio\" + 0.005*\"entrance\" + 0.005*\"air\" + 0.005*\"equipped\" + 0.005*\"sofa\" + 0.005*\"provided\" + 0.005*\"beds\" + 0.005*\"shared\" + 0.005*\"dining\" + 0.004*\"small\" + 0.004*\"washer\" + 0.004*\"includes\" + 0.004*\"table\" + 0.004*\"furnished\" + 0.004*\"netflix\" + 0.004*\"flat\" + 0.004*\"separate\"'),\n",
              " (1,\n",
              "  '0.013*\"business\" + 0.012*\"couples\" + 0.012*\"travelers\" + 0.012*\"solo\" + 0.011*\"adventurers\" + 0.011*\"metro\" + 0.008*\"bus\" + 0.008*\"station\" + 0.008*\"square\" + 0.008*\"line\" + 0.008*\"san\" + 0.007*\"francisco\" + 0.007*\"center\" + 0.007*\"dc\" + 0.006*\"minute\" + 0.006*\"within\" + 0.006*\"easy\" + 0.006*\"central\" + 0.006*\"public\" + 0.005*\"district\" + 0.005*\"chicago\" + 0.005*\"families\" + 0.005*\"transportation\" + 0.004*\"hill\" + 0.004*\"shops\" + 0.004*\"market\" + 0.004*\"steps\" + 0.004*\"shopping\" + 0.004*\"union\" + 0.004*\"views\"'),\n",
              " (2,\n",
              "  '0.008*\"please\" + 0.007*\"east\" + 0.007*\"min\" + 0.006*\"around\" + 0.006*\"time\" + 0.006*\"use\" + 0.006*\"people\" + 0.006*\"shared\" + 0.005*\"bus\" + 0.005*\"side\" + 0.005*\"station\" + 0.005*\"village\" + 0.005*\"boston\" + 0.005*\"safe\" + 0.005*\"square\" + 0.005*\"nice\" + 0.005*\"like\" + 0.005*\"nyc\" + 0.004*\"cozy\" + 0.004*\"best\" + 0.004*\"right\" + 0.004*\"central\" + 0.004*\"minute\" + 0.004*\"easy\" + 0.004*\"friendly\" + 0.004*\"feel\" + 0.004*\"near\" + 0.004*\"apt\" + 0.004*\"west\" + 0.004*\"guest\"'),\n",
              " (3,\n",
              "  '0.022*\"beach\" + 0.021*\"hollywood\" + 0.014*\"la\" + 0.010*\"pool\" + 0.010*\"los\" + 0.009*\"santa\" + 0.008*\"venice\" + 0.008*\"angeles\" + 0.008*\"monica\" + 0.008*\"hills\" + 0.006*\"views\" + 0.006*\"drive\" + 0.005*\"beverly\" + 0.005*\"miles\" + 0.005*\"outdoor\" + 0.005*\"shops\" + 0.005*\"patio\" + 0.005*\"shopping\" + 0.005*\"ocean\" + 0.005*\"center\" + 0.005*\"blvd\" + 0.004*\"studios\" + 0.004*\"dining\" + 0.004*\"sunset\" + 0.004*\"modern\" + 0.004*\"bath\" + 0.004*\"perfect\" + 0.004*\"everything\" + 0.004*\"view\" + 0.003*\"best\"'),\n",
              " (4,\n",
              "  '0.016*\"brooklyn\" + 0.008*\"windows\" + 0.008*\"light\" + 0.007*\"williamsburg\" + 0.006*\"floors\" + 0.006*\"modern\" + 0.006*\"loft\" + 0.006*\"high\" + 0.005*\"garden\" + 0.005*\"renovated\" + 0.005*\"ceilings\" + 0.005*\"bedrooms\" + 0.005*\"lots\" + 0.005*\"fully\" + 0.005*\"nyc\" + 0.005*\"shops\" + 0.005*\"open\" + 0.004*\"views\" + 0.004*\"dining\" + 0.004*\"prospect\" + 0.004*\"best\" + 0.004*\"york\" + 0.004*\"huge\" + 0.004*\"amazing\" + 0.004*\"sunny\" + 0.004*\"minute\" + 0.004*\"perfect\" + 0.004*\"art\" + 0.004*\"trains\" + 0.004*\"natural\"')]"
            ]
          },
          "metadata": {
            "tags": []
          },
          "execution_count": 17
        }
      ]
    },
    {
      "cell_type": "code",
      "metadata": {
        "id": "bhPEthvra0hH"
      },
      "source": [
        "## generating topic describution over each description\n",
        "\n",
        "train_data[\"topic_general\"] = 0.0        ## for topic 0\n",
        "train_data[\"Topic_utilities\"] = 0.0      ## for topic 1\n",
        "train_data[\"Topic_Transport\"] = 0.0      ## for topic 2\n",
        "train_data[\"Topic_listing_desc\"] = 0.0   ## for topic 3\n",
        "train_data[\"Topic_attractions\"] = 0.0    ## for topic 4\n",
        "\n",
        "## defining topic_name to assign topic names\n",
        "def topic_name(i):\n",
        "        switcher={\n",
        "                0:'topic_general',\n",
        "                1:'Topic_utilities',\n",
        "                2:'Topic_Transport',\n",
        "                3:'Topic_listing_desc',\n",
        "                4:'Topic_attractions',\n",
        "             }\n",
        "        return switcher.get(i,\"Invalid\")\n",
        "        \n",
        "for d in range(len(train_data[\"description\"])):\n",
        "    bow = desc_dict.doc2bow(desc[d])\n",
        "    t = lda_model.get_document_topics(bow)\n",
        "    \n",
        "    for i in range(len(t)):\n",
        "        #print(\"description\", d, \":\", t[i][0], t[i][1])\n",
        "        temp = topic_name(t[i][0])\n",
        "        train_data.loc[d,temp] = t[i][1]\n",
        "    #print(\"------\")"
      ],
      "execution_count": 18,
      "outputs": []
    },
    {
      "cell_type": "markdown",
      "metadata": {
        "id": "ieh0p1_Qs_a7"
      },
      "source": [
        "# doing same process for Test data"
      ]
    },
    {
      "cell_type": "code",
      "metadata": {
        "id": "MVSbNH0Ga0db"
      },
      "source": [
        "## Finding sentiment intensity score for description field in test data\n",
        "## saving \"compound\" score to listings dataframe\n",
        "\n",
        "test_data[\"Description_Length\"] = np.nan\n",
        "sent_int = SentimentIntensityAnalyzer()\n",
        "\n",
        "for i in range(len(test_data[\"description\"])):\n",
        "    s = test_data['description'][i]\n",
        "    \n",
        "    ## generating sentiment intensity score for descriptions\n",
        "    sentiment = sent_int.polarity_scores(str(s))\n",
        "    test_data.loc[i, \"Sentiment_intensity\"] = sentiment[\"compound\"]\n",
        "    \n",
        "    ## Findig the length of the description\n",
        "    test_data.loc[i,\"Description_Length\"] = len(str(test_data[\"description\"][i]).split())"
      ],
      "execution_count": 26,
      "outputs": []
    },
    {
      "cell_type": "code",
      "metadata": {
        "id": "ikFir6SGa0b7"
      },
      "source": [
        "## Topic modelling on description using LDA\n",
        "stop = get_stop_words('en')\n",
        "add_stop_word = ['etc', 'well', 'll', 'get', 'within, ''please', 'good', 'many', 'l', 'g', 'c', \n",
        "                 'want']\n",
        "stop.extend(add_stop_word)\n",
        "desc = []\n",
        "\n",
        "## Creating a list of description\n",
        "desc_list = [test_data[\"description\"][i] for i in range(len(test_data[\"description\"]))]\n",
        "\n",
        "for i in desc_list:\n",
        "    ## tokanizing descrption into words\n",
        "    desc_list_w = nltk.tokenize.word_tokenize(str(i))\n",
        "    \n",
        "    ## converting all words to lower case\n",
        "    desc_lower = [w.lower() for w in desc_list_w]\n",
        "    \n",
        "    ## removing numerical values and special characters\n",
        "    desc_words = [w for w in desc_lower if re.search('^[a-z]+$',w)]\n",
        "    \n",
        "    ## removing stop words\n",
        "    desc_stopremoved = [w for w in desc_words if w not in stop]\n",
        "    \n",
        "    ## add tokens to list\n",
        "    desc.append(desc_stopremoved)"
      ],
      "execution_count": 28,
      "outputs": []
    },
    {
      "cell_type": "code",
      "metadata": {
        "colab": {
          "base_uri": "https://localhost:8080/"
        },
        "id": "_KhazNzIu_ak",
        "outputId": "2413024e-146c-4dbc-cf9b-eeeb52fbc6c2"
      },
      "source": [
        "## Gensim's Dictionary encapsulates the mapping between words and their integer ids. \n",
        "desc_dict = corpora.Dictionary(desc)\n",
        "\n",
        "## filter out words which appear in less than 20 documents or more than 15% documents\n",
        "desc_dict.filter_extremes(no_below=20, no_above=0.15) \n",
        "print(desc_dict)\n",
        "\n",
        "## creating bag of words\n",
        "corpus = [desc_dict.doc2bow(d) for d in desc]\n",
        "len(corpus)"
      ],
      "execution_count": 29,
      "outputs": [
        {
          "output_type": "stream",
          "text": [
            "Dictionary(4384 unique tokens: ['ac', 'appliances', 'around', 'brother', 'bushwick']...)\n"
          ],
          "name": "stdout"
        },
        {
          "output_type": "execute_result",
          "data": {
            "text/plain": [
              "24111"
            ]
          },
          "metadata": {
            "tags": []
          },
          "execution_count": 29
        }
      ]
    },
    {
      "cell_type": "code",
      "metadata": {
        "id": "ZUCVcmGavrGl"
      },
      "source": [
        "## generating topic describution over each description in test data\n",
        "\n",
        "test_data[\"topic_general\"] = 0.0        ## for topic 0\n",
        "test_data[\"Topic_utilities\"] = 0.0      ## for topic 1\n",
        "test_data[\"Topic_Transport\"] = 0.0      ## for topic 2\n",
        "test_data[\"Topic_listing_desc\"] = 0.0   ## for topic 3\n",
        "test_data[\"Topic_attractions\"] = 0.0    ## for topic 4\n",
        "\n",
        "## defining topic_name to assign topic names\n",
        "def topic_name(i):\n",
        "        switcher={\n",
        "                0:'topic_general',\n",
        "                1:'Topic_utilities',\n",
        "                2:'Topic_Transport',\n",
        "                3:'Topic_listing_desc',\n",
        "                4:'Topic_attractions',\n",
        "             }\n",
        "        return switcher.get(i,\"Invalid\")\n",
        "        \n",
        "for d in range(len(test_data[\"description\"])):\n",
        "    bow = desc_dict.doc2bow(desc[d])\n",
        "    t = lda_model.get_document_topics(bow)\n",
        "    \n",
        "    for i in range(len(t)):\n",
        "        #print(\"description\", d, \":\", t[i][0], t[i][1])\n",
        "        temp = topic_name(t[i][0])\n",
        "        test_data.loc[d,temp] = t[i][1]\n",
        "    #print(\"------\")"
      ],
      "execution_count": 30,
      "outputs": []
    },
    {
      "cell_type": "code",
      "metadata": {
        "id": "-oVJPiAPwEVd"
      },
      "source": [
        "train_data.to_csv('train_LDA.csv',index=False)\n",
        "test_data.to_csv('test_LDA.csv',index=False)"
      ],
      "execution_count": 31,
      "outputs": []
    },
    {
      "cell_type": "code",
      "metadata": {
        "id": "TM5Q8y6KwzTP"
      },
      "source": [
        ""
      ],
      "execution_count": null,
      "outputs": []
    }
  ]
}